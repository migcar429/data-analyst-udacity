{
 "cells": [
  {
   "cell_type": "markdown",
   "metadata": {},
   "source": [
    "## P2 Investigate a Dataset\n",
    "\n",
    "For this project, I've decided to investigate a classic dataset: the Titanic passenger dataset. This dataset encompasses 891 individuals aboard the Titanic when it sailed that fateful day. It has has demographic, trip and economic data (in the form of fare price, cabin class, etc.).\n",
    "\n",
    "I'll be following the data analysis process as outlined by the Udacity class:\n",
    "\n",
    "<img src=\"files/images/data-analysis-process.png\" height=\"200\", width=\"500\" align=\"left\"></img>"
   ]
  },
  {
   "cell_type": "markdown",
   "metadata": {},
   "source": [
    "## Question Phase\n",
    "\n",
    "- Were the young and old likelier to survive?\n",
    "- Was there a difference in survival rate for different genders?\n",
    "- Did socioeconomic status have an impact on survival rate? "
   ]
  },
  {
   "cell_type": "markdown",
   "metadata": {},
   "source": [
    "## Wrangling Phase (Cleaning the Data)\n",
    "\n",
    "I wanted to first clean the data by doing the following:\n",
    "- Checking if I loaded the CSV data correctly\n",
    "- Check each series (column) for discrepancies\n",
    "- Making sure each column in the DataFrame object had the right data type"
   ]
  },
  {
   "cell_type": "code",
   "execution_count": 109,
   "metadata": {
    "collapsed": false
   },
   "outputs": [
    {
     "name": "stdout",
     "output_type": "stream",
     "text": [
      "<class 'pandas.core.frame.DataFrame'>\n",
      "RangeIndex: 891 entries, 0 to 890\n",
      "Data columns (total 12 columns):\n",
      "PassengerId    891 non-null int64\n",
      "Survived       891 non-null int64\n",
      "Pclass         891 non-null int64\n",
      "Name           891 non-null object\n",
      "Sex            891 non-null object\n",
      "Age            714 non-null float64\n",
      "SibSp          891 non-null int64\n",
      "Parch          891 non-null int64\n",
      "Ticket         891 non-null object\n",
      "Fare           891 non-null float64\n",
      "Cabin          204 non-null object\n",
      "Embarked       889 non-null object\n",
      "dtypes: float64(2), int64(5), object(5)\n",
      "memory usage: 83.6+ KB\n",
      "None\n"
     ]
    },
    {
     "data": {
      "text/html": [
       "<div>\n",
       "<table border=\"1\" class=\"dataframe\">\n",
       "  <thead>\n",
       "    <tr style=\"text-align: right;\">\n",
       "      <th></th>\n",
       "      <th>PassengerId</th>\n",
       "      <th>Survived</th>\n",
       "      <th>Pclass</th>\n",
       "      <th>Name</th>\n",
       "      <th>Sex</th>\n",
       "      <th>Age</th>\n",
       "      <th>SibSp</th>\n",
       "      <th>Parch</th>\n",
       "      <th>Ticket</th>\n",
       "      <th>Fare</th>\n",
       "      <th>Cabin</th>\n",
       "      <th>Embarked</th>\n",
       "    </tr>\n",
       "  </thead>\n",
       "  <tbody>\n",
       "    <tr>\n",
       "      <th>0</th>\n",
       "      <td>1</td>\n",
       "      <td>0</td>\n",
       "      <td>3</td>\n",
       "      <td>Braund, Mr. Owen Harris</td>\n",
       "      <td>male</td>\n",
       "      <td>22.0</td>\n",
       "      <td>1</td>\n",
       "      <td>0</td>\n",
       "      <td>A/5 21171</td>\n",
       "      <td>7.2500</td>\n",
       "      <td>NaN</td>\n",
       "      <td>S</td>\n",
       "    </tr>\n",
       "    <tr>\n",
       "      <th>1</th>\n",
       "      <td>2</td>\n",
       "      <td>1</td>\n",
       "      <td>1</td>\n",
       "      <td>Cumings, Mrs. John Bradley (Florence Briggs Th...</td>\n",
       "      <td>female</td>\n",
       "      <td>38.0</td>\n",
       "      <td>1</td>\n",
       "      <td>0</td>\n",
       "      <td>PC 17599</td>\n",
       "      <td>71.2833</td>\n",
       "      <td>C85</td>\n",
       "      <td>C</td>\n",
       "    </tr>\n",
       "    <tr>\n",
       "      <th>2</th>\n",
       "      <td>3</td>\n",
       "      <td>1</td>\n",
       "      <td>3</td>\n",
       "      <td>Heikkinen, Miss. Laina</td>\n",
       "      <td>female</td>\n",
       "      <td>26.0</td>\n",
       "      <td>0</td>\n",
       "      <td>0</td>\n",
       "      <td>STON/O2. 3101282</td>\n",
       "      <td>7.9250</td>\n",
       "      <td>NaN</td>\n",
       "      <td>S</td>\n",
       "    </tr>\n",
       "    <tr>\n",
       "      <th>3</th>\n",
       "      <td>4</td>\n",
       "      <td>1</td>\n",
       "      <td>1</td>\n",
       "      <td>Futrelle, Mrs. Jacques Heath (Lily May Peel)</td>\n",
       "      <td>female</td>\n",
       "      <td>35.0</td>\n",
       "      <td>1</td>\n",
       "      <td>0</td>\n",
       "      <td>113803</td>\n",
       "      <td>53.1000</td>\n",
       "      <td>C123</td>\n",
       "      <td>S</td>\n",
       "    </tr>\n",
       "    <tr>\n",
       "      <th>4</th>\n",
       "      <td>5</td>\n",
       "      <td>0</td>\n",
       "      <td>3</td>\n",
       "      <td>Allen, Mr. William Henry</td>\n",
       "      <td>male</td>\n",
       "      <td>35.0</td>\n",
       "      <td>0</td>\n",
       "      <td>0</td>\n",
       "      <td>373450</td>\n",
       "      <td>8.0500</td>\n",
       "      <td>NaN</td>\n",
       "      <td>S</td>\n",
       "    </tr>\n",
       "  </tbody>\n",
       "</table>\n",
       "</div>"
      ],
      "text/plain": [
       "   PassengerId  Survived  Pclass  \\\n",
       "0            1         0       3   \n",
       "1            2         1       1   \n",
       "2            3         1       3   \n",
       "3            4         1       1   \n",
       "4            5         0       3   \n",
       "\n",
       "                                                Name     Sex   Age  SibSp  \\\n",
       "0                            Braund, Mr. Owen Harris    male  22.0      1   \n",
       "1  Cumings, Mrs. John Bradley (Florence Briggs Th...  female  38.0      1   \n",
       "2                             Heikkinen, Miss. Laina  female  26.0      0   \n",
       "3       Futrelle, Mrs. Jacques Heath (Lily May Peel)  female  35.0      1   \n",
       "4                           Allen, Mr. William Henry    male  35.0      0   \n",
       "\n",
       "   Parch            Ticket     Fare Cabin Embarked  \n",
       "0      0         A/5 21171   7.2500   NaN        S  \n",
       "1      0          PC 17599  71.2833   C85        C  \n",
       "2      0  STON/O2. 3101282   7.9250   NaN        S  \n",
       "3      0            113803  53.1000  C123        S  \n",
       "4      0            373450   8.0500   NaN        S  "
      ]
     },
     "execution_count": 109,
     "metadata": {},
     "output_type": "execute_result"
    }
   ],
   "source": [
    "import seaborn as sns, pandas as pd, matplotlib.pyplot as plt, numpy as np\n",
    "% matplotlib inline\n",
    "\n",
    "data = pd.read_csv('data/titanic-data.csv')\n",
    "\n",
    "# Cursory glance to see if data loaded correctly\n",
    "print data.info()\n",
    "data.head()"
   ]
  },
  {
   "cell_type": "code",
   "execution_count": 110,
   "metadata": {
    "collapsed": false
   },
   "outputs": [
    {
     "data": {
      "text/html": [
       "<div>\n",
       "<table border=\"1\" class=\"dataframe\">\n",
       "  <thead>\n",
       "    <tr style=\"text-align: right;\">\n",
       "      <th></th>\n",
       "      <th>PassengerId</th>\n",
       "      <th>Survived</th>\n",
       "      <th>Pclass</th>\n",
       "      <th>Name</th>\n",
       "      <th>Sex</th>\n",
       "      <th>Age</th>\n",
       "      <th>SibSp</th>\n",
       "      <th>Parch</th>\n",
       "      <th>Ticket</th>\n",
       "      <th>Fare</th>\n",
       "      <th>Cabin</th>\n",
       "      <th>Embarked</th>\n",
       "      <th>Cclass</th>\n",
       "    </tr>\n",
       "  </thead>\n",
       "  <tbody>\n",
       "    <tr>\n",
       "      <th>886</th>\n",
       "      <td>887</td>\n",
       "      <td>0</td>\n",
       "      <td>2</td>\n",
       "      <td>Montvila, Rev. Juozas</td>\n",
       "      <td>male</td>\n",
       "      <td>27.0</td>\n",
       "      <td>0</td>\n",
       "      <td>0</td>\n",
       "      <td>211536</td>\n",
       "      <td>13.00</td>\n",
       "      <td></td>\n",
       "      <td>S</td>\n",
       "      <td></td>\n",
       "    </tr>\n",
       "    <tr>\n",
       "      <th>887</th>\n",
       "      <td>888</td>\n",
       "      <td>1</td>\n",
       "      <td>1</td>\n",
       "      <td>Graham, Miss. Margaret Edith</td>\n",
       "      <td>female</td>\n",
       "      <td>19.0</td>\n",
       "      <td>0</td>\n",
       "      <td>0</td>\n",
       "      <td>112053</td>\n",
       "      <td>30.00</td>\n",
       "      <td>B42</td>\n",
       "      <td>S</td>\n",
       "      <td>B</td>\n",
       "    </tr>\n",
       "    <tr>\n",
       "      <th>888</th>\n",
       "      <td>889</td>\n",
       "      <td>0</td>\n",
       "      <td>3</td>\n",
       "      <td>Johnston, Miss. Catherine Helen \"Carrie\"</td>\n",
       "      <td>female</td>\n",
       "      <td>NaN</td>\n",
       "      <td>1</td>\n",
       "      <td>2</td>\n",
       "      <td>W./C. 6607</td>\n",
       "      <td>23.45</td>\n",
       "      <td></td>\n",
       "      <td>S</td>\n",
       "      <td></td>\n",
       "    </tr>\n",
       "    <tr>\n",
       "      <th>889</th>\n",
       "      <td>890</td>\n",
       "      <td>1</td>\n",
       "      <td>1</td>\n",
       "      <td>Behr, Mr. Karl Howell</td>\n",
       "      <td>male</td>\n",
       "      <td>26.0</td>\n",
       "      <td>0</td>\n",
       "      <td>0</td>\n",
       "      <td>111369</td>\n",
       "      <td>30.00</td>\n",
       "      <td>C148</td>\n",
       "      <td>C</td>\n",
       "      <td>C</td>\n",
       "    </tr>\n",
       "    <tr>\n",
       "      <th>890</th>\n",
       "      <td>891</td>\n",
       "      <td>0</td>\n",
       "      <td>3</td>\n",
       "      <td>Dooley, Mr. Patrick</td>\n",
       "      <td>male</td>\n",
       "      <td>32.0</td>\n",
       "      <td>0</td>\n",
       "      <td>0</td>\n",
       "      <td>370376</td>\n",
       "      <td>7.75</td>\n",
       "      <td></td>\n",
       "      <td>Q</td>\n",
       "      <td></td>\n",
       "    </tr>\n",
       "  </tbody>\n",
       "</table>\n",
       "</div>"
      ],
      "text/plain": [
       "     PassengerId  Survived  Pclass                                      Name  \\\n",
       "886          887         0       2                     Montvila, Rev. Juozas   \n",
       "887          888         1       1              Graham, Miss. Margaret Edith   \n",
       "888          889         0       3  Johnston, Miss. Catherine Helen \"Carrie\"   \n",
       "889          890         1       1                     Behr, Mr. Karl Howell   \n",
       "890          891         0       3                       Dooley, Mr. Patrick   \n",
       "\n",
       "        Sex   Age  SibSp  Parch      Ticket   Fare Cabin Embarked Cclass  \n",
       "886    male  27.0      0      0      211536  13.00              S         \n",
       "887  female  19.0      0      0      112053  30.00   B42        S      B  \n",
       "888  female   NaN      1      2  W./C. 6607  23.45              S         \n",
       "889    male  26.0      0      0      111369  30.00  C148        C      C  \n",
       "890    male  32.0      0      0      370376   7.75              Q         "
      ]
     },
     "execution_count": 110,
     "metadata": {},
     "output_type": "execute_result"
    }
   ],
   "source": [
    "'''Quick check at unique values for non-unique columns (i.e. excluding name and PassengerId).\n",
    "Did this to find and fix any easily visible anomalies. Found a few NaN values resulting from incorrect series dtypes.\n",
    "\n",
    "\n",
    "for c in data.columns.values:\n",
    "    if c == 'PassengerId' or c == 'Name':\n",
    "        pass\n",
    "    else:\n",
    "        print c, \"\\n\", data[c].unique(), '\\n\\n'\n",
    "'''\n",
    "\n",
    "#Originally did data = data.fillna('') but this converted dtypes due to empty string not being valid for float, int\n",
    "# Decided to leave as NaN, does not affect analysis. Chose not to data.fill(0) because Age=0 not right\n",
    "data['Cabin'] = data['Cabin'].fillna('')\n",
    "\n",
    "# Adding a new field, Cclass, which is a column with cabin class only\n",
    "# Also important to note, some passengers have several 'Cabin' values but for each time this happens,\n",
    "# all listed values have the same prefix letter, so I left my code as is.\n",
    "\n",
    "cclass_list = []\n",
    "f = lambda x: cclass_list.append('') if x == '' else cclass_list.append(x[0:1])\n",
    "\n",
    "data['Cabin'].map(f)\n",
    "\n",
    "data['Cclass'] = pd.Series(cclass_list, index=data.index)\n",
    "data.tail()"
   ]
  },
  {
   "cell_type": "code",
   "execution_count": 111,
   "metadata": {
    "collapsed": false
   },
   "outputs": [
    {
     "name": "stdout",
     "output_type": "stream",
     "text": [
      "PassengerId      0\n",
      "Survived         0\n",
      "Pclass           0\n",
      "Name             0\n",
      "Sex              0\n",
      "Age            177\n",
      "SibSp            0\n",
      "Parch            0\n",
      "Ticket           0\n",
      "Fare             0\n",
      "Cabin            0\n",
      "Embarked         2\n",
      "Cclass           0\n",
      "dtype: int64 \n",
      "-----\n",
      "PassengerId      0\n",
      "Survived         0\n",
      "Pclass           0\n",
      "Name             0\n",
      "Sex              0\n",
      "Age              0\n",
      "SibSp            0\n",
      "Parch            0\n",
      "Ticket           0\n",
      "Fare             0\n",
      "Cabin          687\n",
      "Embarked         0\n",
      "Cclass         687\n",
      "dtype: int64\n"
     ]
    }
   ],
   "source": [
    "# Count NaN values\n",
    "d = lambda x: len(x) - x.count()\n",
    "print data.apply(d), '\\n', '-----'\n",
    "\n",
    "# Count empty values\n",
    "j = lambda x: sum(x=='')\n",
    "print data.apply(j)"
   ]
  },
  {
   "cell_type": "markdown",
   "metadata": {},
   "source": [
    "#### On missing values\n",
    "> There are 177 missing age values and 687 missing cabin values.\n",
    "> In the later sections, I only use 'Cclass' (not 'Cabin') in my analysis and will perform some imputation to solve that. I have left 'Age' as is. This potentially impacts any trends that might pop up with respect to 'Age'. 'Cclass' can be reasonably derived from ticket price as it follows that fare ranges correspond to different cabins on the ship. 'Age' is a little more difficult to derive."
   ]
  },
  {
   "cell_type": "markdown",
   "metadata": {},
   "source": [
    "#### Few closing comments RE my first look at the data\n",
    "\n",
    "> I don't think it's particularly useful to look at 'PassengerId', 'Name', 'Ticket', 'Embarked' as predictors for survival so I'm excluding them in my analysis and conclusions. 'PassengerId' is pretty much another indexing field, 'Embarked' contains the same info you would want from 'Ticket' (prefixes of the ticket contain port of embarcation it seems). 'Embarked' is not so meaningful provided there are no large demographic differences between each port of embarcation. If anything, it might be worthy to examine how correlated 'Emabarked' is with other demographic data we have, but I'm leaving that out.\n",
    "- Name: analyzing the origin of people's last names could give insight into whether different nationalities or ethnicities had higher survival rates. Or analyzing the salutation (Mr., Mrs., etc.) might yield something as well, but disregarding for now."
   ]
  },
  {
   "cell_type": "markdown",
   "metadata": {},
   "source": [
    "## Explore Phase"
   ]
  },
  {
   "cell_type": "markdown",
   "metadata": {},
   "source": [
    "### Sex, Pclass\n",
    "\n",
    "Preface: 0 means did not survive, 1 means survived.\n",
    "\n",
    "It's fairly obvious to see that females had a higher survival rate. As shown by the upper left figure, we can see that females had around .75 survival rate; given by: $$\\frac{# of female survivors}{all female passengers}$$\n",
    "\n",
    "We can also see that Pclass (Passenger Class, a proxy for socioeconomic status, SES) shows a distinct trend. Individuals in a higher passenger class had higher survival rates and counts (bottom 2 charts)."
   ]
  },
  {
   "cell_type": "code",
   "execution_count": 112,
   "metadata": {
    "collapsed": false
   },
   "outputs": [
    {
     "data": {
      "text/plain": [
       "<matplotlib.text.Text at 0xdd5a048>"
      ]
     },
     "execution_count": 112,
     "metadata": {},
     "output_type": "execute_result"
    },
    {
     "data": {
      "image/png": "[encoded data removed]",
      "text/plain": [
       "<matplotlib.figure.Figure at 0x172d9be0>"
      ]
     },
     "metadata": {},
     "output_type": "display_data"
    }
   ],
   "source": [
    "survived, pclass, sex, age, sibsp, parch, fare, embarked, cclass = data['Survived'], data['Pclass'], data['Sex'], data['Age'],data['SibSp'], data['Parch'], data['Fare'], data['Embarked'], data['Cclass']\n",
    "\n",
    "# Sex and Pclass first\n",
    "\n",
    "# Personal: barplot() performs aggregation by calculating a statistic (mean: (Surviving Males/All Males), (Surviving Females/All Females)\n",
    "fig, ((ax1, ax2),(ax3, ax4)) = plt.subplots(2, 2, figsize=(10,8))\n",
    "fig.subplots_adjust(hspace=.3)\n",
    "\n",
    "sns.barplot(x=sex, y=survived, ax=ax1).set_title('Avg Survival Rate by Sex')\n",
    "sns.countplot(x=sex, hue=survived, ax=ax2).set_title('Survivor Count by Sex')\n",
    "sns.barplot(x=pclass, y=survived, ax=ax3, palette='Set2').set_title('Avg Survival Rate by Pclass')\n",
    "sns.countplot(x=pclass, hue=survived, ax=ax4, palette='Set2').set_title('Survivor Count by Pclass')"
   ]
  },
  {
   "cell_type": "markdown",
   "metadata": {},
   "source": [
    "### Examining Sex and Pclass Together\n",
    "\n",
    "From looking at Sex and Pclass separately, I hypothesized I would see a similarly clear trend if I looked at them together. The above shows that indeed males in Pclass 3 had the highest incidence of mortality. As we go up in Pclass for males, we see that while absolute count of mortality sharpyly declines, there is not a huge difference in count of survivors across the Pclasses.\n",
    "\n",
    "You see a similar trend for females. As Pclass goes up, mortality count goes down but survivor count only slightly goes up. At Pclass = 1 for females, there are barely any who did not survive."
   ]
  },
  {
   "cell_type": "code",
   "execution_count": 113,
   "metadata": {
    "collapsed": false
   },
   "outputs": [
    {
     "data": {
      "image/png": "[encoded data removed]",
      "text/plain": [
       "<matplotlib.figure.Figure at 0x1764f9e8>"
      ]
     },
     "metadata": {},
     "output_type": "display_data"
    }
   ],
   "source": [
    "# Checking Sex-Pclass combinations\n",
    "g = sns.FacetGrid(data, col='Sex', row='Pclass')\n",
    "g = g.map(sns.countplot, 'Survived', palette='Set3')\n",
    "\n",
    "for i in g.axes:\n",
    "    i[0].set_ylabel('Count')"
   ]
  },
  {
   "cell_type": "code",
   "execution_count": 114,
   "metadata": {
    "collapsed": false
   },
   "outputs": [
    {
     "data": {
      "text/plain": [
       "<matplotlib.text.Text at 0x19303a58>"
      ]
     },
     "execution_count": 114,
     "metadata": {},
     "output_type": "execute_result"
    },
    {
     "data": {
      "image/png": "[encoded data removed]",
      "text/plain": [
       "<matplotlib.figure.Figure at 0x1739e7b8>"
      ]
     },
     "metadata": {},
     "output_type": "display_data"
    }
   ],
   "source": [
    "# Looking at Cclass, embarked\n",
    "\n",
    "fig, (ax1, ax2) = plt.subplots(1, 2, figsize=(12,5))\n",
    "order_plot = ['A', 'B', 'C', 'D', 'E', 'F', 'G', 'T', '']\n",
    "\n",
    "sns.barplot(x=cclass, y=survived, ax=ax1, palette='muted', order=order_plot).set_title('Avg Survival Rate by Cabin Class')\n",
    "ax1.set_ylabel('Survival Rate')\n",
    "sns.countplot(x=cclass, hue=survived, ax=ax2, palette='muted', order=order_plot).set_title('Survivor Count by Cabin Class')\n",
    "\n",
    "# Noticed a huge bunch of passengers with no Cabin Class, so explored futher..."
   ]
  },
  {
   "cell_type": "code",
   "execution_count": 115,
   "metadata": {
    "collapsed": false
   },
   "outputs": [
    {
     "data": {
      "text/html": [
       "<div>\n",
       "<table border=\"1\" class=\"dataframe\">\n",
       "  <thead>\n",
       "    <tr style=\"text-align: right;\">\n",
       "      <th></th>\n",
       "      <th>Survived</th>\n",
       "      <th>Fare</th>\n",
       "    </tr>\n",
       "    <tr>\n",
       "      <th>Cclass</th>\n",
       "      <th></th>\n",
       "      <th></th>\n",
       "    </tr>\n",
       "  </thead>\n",
       "  <tbody>\n",
       "    <tr>\n",
       "      <th></th>\n",
       "      <td>687</td>\n",
       "      <td>10.50000</td>\n",
       "    </tr>\n",
       "    <tr>\n",
       "      <th>A</th>\n",
       "      <td>15</td>\n",
       "      <td>35.50000</td>\n",
       "    </tr>\n",
       "    <tr>\n",
       "      <th>B</th>\n",
       "      <td>47</td>\n",
       "      <td>80.00000</td>\n",
       "    </tr>\n",
       "    <tr>\n",
       "      <th>C</th>\n",
       "      <td>59</td>\n",
       "      <td>83.47500</td>\n",
       "    </tr>\n",
       "    <tr>\n",
       "      <th>D</th>\n",
       "      <td>33</td>\n",
       "      <td>53.10000</td>\n",
       "    </tr>\n",
       "    <tr>\n",
       "      <th>E</th>\n",
       "      <td>32</td>\n",
       "      <td>45.18125</td>\n",
       "    </tr>\n",
       "    <tr>\n",
       "      <th>F</th>\n",
       "      <td>13</td>\n",
       "      <td>13.00000</td>\n",
       "    </tr>\n",
       "    <tr>\n",
       "      <th>G</th>\n",
       "      <td>4</td>\n",
       "      <td>13.58125</td>\n",
       "    </tr>\n",
       "    <tr>\n",
       "      <th>T</th>\n",
       "      <td>1</td>\n",
       "      <td>35.50000</td>\n",
       "    </tr>\n",
       "  </tbody>\n",
       "</table>\n",
       "</div>"
      ],
      "text/plain": [
       "        Survived      Fare\n",
       "Cclass                    \n",
       "             687  10.50000\n",
       "A             15  35.50000\n",
       "B             47  80.00000\n",
       "C             59  83.47500\n",
       "D             33  53.10000\n",
       "E             32  45.18125\n",
       "F             13  13.00000\n",
       "G              4  13.58125\n",
       "T              1  35.50000"
      ]
     },
     "execution_count": 115,
     "metadata": {},
     "output_type": "execute_result"
    }
   ],
   "source": [
    "# Showed passenger count and median fare for each class\n",
    "d, d1 = data.groupby(['Cclass']).count()['Survived'], data.groupby(['Cclass']).median()['Fare']\n",
    "pd.concat([d, d1], axis=1)\n",
    "\n",
    "# Since there are so many unclassified, decided to assign them values based on their median fare..."
   ]
  },
  {
   "cell_type": "code",
   "execution_count": 116,
   "metadata": {
    "collapsed": false
   },
   "outputs": [
    {
     "data": {
      "text/html": [
       "<div>\n",
       "<table border=\"1\" class=\"dataframe\">\n",
       "  <thead>\n",
       "    <tr style=\"text-align: right;\">\n",
       "      <th></th>\n",
       "      <th></th>\n",
       "      <th>Age</th>\n",
       "      <th>Fare</th>\n",
       "      <th>Parch</th>\n",
       "      <th>PassengerId</th>\n",
       "      <th>Pclass</th>\n",
       "      <th>SibSp</th>\n",
       "      <th>Survived</th>\n",
       "    </tr>\n",
       "    <tr>\n",
       "      <th>Cclass</th>\n",
       "      <th></th>\n",
       "      <th></th>\n",
       "      <th></th>\n",
       "      <th></th>\n",
       "      <th></th>\n",
       "      <th></th>\n",
       "      <th></th>\n",
       "      <th></th>\n",
       "    </tr>\n",
       "  </thead>\n",
       "  <tbody>\n",
       "    <tr>\n",
       "      <th rowspan=\"8\" valign=\"top\"></th>\n",
       "      <th>count</th>\n",
       "      <td>529.000000</td>\n",
       "      <td>687.000000</td>\n",
       "      <td>687.000000</td>\n",
       "      <td>687.000000</td>\n",
       "      <td>687.000000</td>\n",
       "      <td>687.000000</td>\n",
       "      <td>687.000000</td>\n",
       "    </tr>\n",
       "    <tr>\n",
       "      <th>mean</th>\n",
       "      <td>27.555293</td>\n",
       "      <td>19.157325</td>\n",
       "      <td>0.365357</td>\n",
       "      <td>443.208151</td>\n",
       "      <td>2.639010</td>\n",
       "      <td>0.547307</td>\n",
       "      <td>0.299854</td>\n",
       "    </tr>\n",
       "    <tr>\n",
       "      <th>std</th>\n",
       "      <td>13.472634</td>\n",
       "      <td>28.663343</td>\n",
       "      <td>0.827106</td>\n",
       "      <td>259.215905</td>\n",
       "      <td>0.589602</td>\n",
       "      <td>1.207492</td>\n",
       "      <td>0.458528</td>\n",
       "    </tr>\n",
       "    <tr>\n",
       "      <th>min</th>\n",
       "      <td>0.420000</td>\n",
       "      <td>0.000000</td>\n",
       "      <td>0.000000</td>\n",
       "      <td>1.000000</td>\n",
       "      <td>1.000000</td>\n",
       "      <td>0.000000</td>\n",
       "      <td>0.000000</td>\n",
       "    </tr>\n",
       "    <tr>\n",
       "      <th>25%</th>\n",
       "      <td>NaN</td>\n",
       "      <td>7.877100</td>\n",
       "      <td>0.000000</td>\n",
       "      <td>214.500000</td>\n",
       "      <td>2.000000</td>\n",
       "      <td>0.000000</td>\n",
       "      <td>0.000000</td>\n",
       "    </tr>\n",
       "    <tr>\n",
       "      <th>50%</th>\n",
       "      <td>NaN</td>\n",
       "      <td>10.500000</td>\n",
       "      <td>0.000000</td>\n",
       "      <td>441.000000</td>\n",
       "      <td>3.000000</td>\n",
       "      <td>0.000000</td>\n",
       "      <td>0.000000</td>\n",
       "    </tr>\n",
       "    <tr>\n",
       "      <th>75%</th>\n",
       "      <td>NaN</td>\n",
       "      <td>23.000000</td>\n",
       "      <td>0.000000</td>\n",
       "      <td>664.500000</td>\n",
       "      <td>3.000000</td>\n",
       "      <td>1.000000</td>\n",
       "      <td>1.000000</td>\n",
       "    </tr>\n",
       "    <tr>\n",
       "      <th>max</th>\n",
       "      <td>74.000000</td>\n",
       "      <td>512.329200</td>\n",
       "      <td>6.000000</td>\n",
       "      <td>891.000000</td>\n",
       "      <td>3.000000</td>\n",
       "      <td>8.000000</td>\n",
       "      <td>1.000000</td>\n",
       "    </tr>\n",
       "  </tbody>\n",
       "</table>\n",
       "</div>"
      ],
      "text/plain": [
       "                     Age        Fare       Parch  PassengerId      Pclass  \\\n",
       "Cclass                                                                      \n",
       "       count  529.000000  687.000000  687.000000   687.000000  687.000000   \n",
       "       mean    27.555293   19.157325    0.365357   443.208151    2.639010   \n",
       "       std     13.472634   28.663343    0.827106   259.215905    0.589602   \n",
       "       min      0.420000    0.000000    0.000000     1.000000    1.000000   \n",
       "       25%           NaN    7.877100    0.000000   214.500000    2.000000   \n",
       "       50%           NaN   10.500000    0.000000   441.000000    3.000000   \n",
       "       75%           NaN   23.000000    0.000000   664.500000    3.000000   \n",
       "       max     74.000000  512.329200    6.000000   891.000000    3.000000   \n",
       "\n",
       "                   SibSp    Survived  \n",
       "Cclass                                \n",
       "       count  687.000000  687.000000  \n",
       "       mean     0.547307    0.299854  \n",
       "       std      1.207492    0.458528  \n",
       "       min      0.000000    0.000000  \n",
       "       25%      0.000000    0.000000  \n",
       "       50%      0.000000    0.000000  \n",
       "       75%      1.000000    1.000000  \n",
       "       max      8.000000    1.000000  "
      ]
     },
     "execution_count": 116,
     "metadata": {},
     "output_type": "execute_result"
    }
   ],
   "source": [
    "# Checking descriptive stats for Fare with Cclass=''\n",
    "data.groupby(['Cclass']).describe()[0:8]"
   ]
  },
  {
   "cell_type": "code",
   "execution_count": 117,
   "metadata": {
    "collapsed": false
   },
   "outputs": [
    {
     "data": {
      "text/html": [
       "<div>\n",
       "<table border=\"1\" class=\"dataframe\">\n",
       "  <thead>\n",
       "    <tr style=\"text-align: right;\">\n",
       "      <th></th>\n",
       "      <th>Survived</th>\n",
       "      <th>Fare</th>\n",
       "    </tr>\n",
       "    <tr>\n",
       "      <th>Cclass</th>\n",
       "      <th></th>\n",
       "      <th></th>\n",
       "    </tr>\n",
       "  </thead>\n",
       "  <tbody>\n",
       "    <tr>\n",
       "      <th>A</th>\n",
       "      <td>15</td>\n",
       "      <td>35.50000</td>\n",
       "    </tr>\n",
       "    <tr>\n",
       "      <th>B</th>\n",
       "      <td>47</td>\n",
       "      <td>80.00000</td>\n",
       "    </tr>\n",
       "    <tr>\n",
       "      <th>C</th>\n",
       "      <td>59</td>\n",
       "      <td>83.47500</td>\n",
       "    </tr>\n",
       "    <tr>\n",
       "      <th>D</th>\n",
       "      <td>33</td>\n",
       "      <td>53.10000</td>\n",
       "    </tr>\n",
       "    <tr>\n",
       "      <th>E</th>\n",
       "      <td>32</td>\n",
       "      <td>45.18125</td>\n",
       "    </tr>\n",
       "    <tr>\n",
       "      <th>F</th>\n",
       "      <td>13</td>\n",
       "      <td>13.00000</td>\n",
       "    </tr>\n",
       "    <tr>\n",
       "      <th>G</th>\n",
       "      <td>691</td>\n",
       "      <td>10.50000</td>\n",
       "    </tr>\n",
       "    <tr>\n",
       "      <th>T</th>\n",
       "      <td>1</td>\n",
       "      <td>35.50000</td>\n",
       "    </tr>\n",
       "  </tbody>\n",
       "</table>\n",
       "</div>"
      ],
      "text/plain": [
       "        Survived      Fare\n",
       "Cclass                    \n",
       "A             15  35.50000\n",
       "B             47  80.00000\n",
       "C             59  83.47500\n",
       "D             33  53.10000\n",
       "E             32  45.18125\n",
       "F             13  13.00000\n",
       "G            691  10.50000\n",
       "T              1  35.50000"
      ]
     },
     "execution_count": 117,
     "metadata": {},
     "output_type": "execute_result"
    }
   ],
   "source": [
    "# Given Fare for empty Cclass has a relatively small IQR and median seems close to Cclass F or G, decided to put unclassified into class G\n",
    "data['Cclass'].replace('', 'G', inplace=True)\n",
    "\n",
    "# Fixed!\n",
    "d2, d3 = data.groupby(['Cclass']).count()['Survived'], data.groupby(['Cclass']).median()['Fare']\n",
    "pd.concat([d2, d3], axis=1)"
   ]
  },
  {
   "cell_type": "code",
   "execution_count": 118,
   "metadata": {
    "collapsed": false
   },
   "outputs": [
    {
     "data": {
      "text/plain": [
       "<matplotlib.text.Text at 0x19bfc9e8>"
      ]
     },
     "execution_count": 118,
     "metadata": {},
     "output_type": "execute_result"
    },
    {
     "data": {
      "image/png": "[encoded data removed]",
      "text/plain": [
       "<matplotlib.figure.Figure at 0x194e0048>"
      ]
     },
     "metadata": {},
     "output_type": "display_data"
    }
   ],
   "source": [
    "# Corrected Cclass graphs\n",
    "\n",
    "fig, (ax1, ax2) = plt.subplots(1, 2, figsize=(12,5))\n",
    "order_plot_new, cclass_new = order_plot[:-1], data['Cclass']\n",
    "\n",
    "sns.barplot(x=cclass_new, y=survived, ax=ax1, palette='muted', order=order_plot_new).set_title('Avg Survival Rate by Cabin Class')\n",
    "ax1.set_ylabel('Survival Rate')\n",
    "sns.countplot(x=cclass_new, hue=survived, ax=ax2, palette='muted', order=order_plot_new).set_title('Survivor Count by Cabin Class')\n",
    "\n",
    "# Survivor rate slightly dropped for class G. Survival rate is also now more meaningful, but Survivor count is less so"
   ]
  },
  {
   "cell_type": "markdown",
   "metadata": {},
   "source": [
    "### Age\n",
    "\n",
    "From the histograms of each survival condition by age and the PDF estimate, we can see the shape of the distribution as follows:\n",
    "- Non-survivors have a high frequency in the 20-30. The distribution is slightly skewed to the left.\n",
    "- Survivors have a flatter distribution, with a higher frequency at the 0-10 age range (young children).\n",
    "- The spread of non-survivors seems to be wider; there are a few occurrences in the 60-75 age range whereas the same does not really occur for survivors.\n",
    "- The estimated PDF reflects this idea and visualizes it a bit better. You can see the skew of non-survivors more prominent around age=20, and survivors as flatter with another small 'peak' close to age=0."
   ]
  },
  {
   "cell_type": "code",
   "execution_count": 119,
   "metadata": {
    "collapsed": false
   },
   "outputs": [
    {
     "data": {
      "text/plain": [
       "(0, 100)"
      ]
     },
     "execution_count": 119,
     "metadata": {},
     "output_type": "execute_result"
    },
    {
     "data": {
      "image/png": "[encoded data removed]",
      "text/plain": [
       "<matplotlib.figure.Figure at 0x1726d3c8>"
      ]
     },
     "metadata": {},
     "output_type": "display_data"
    },
    {
     "data": {
      "image/png": "[encoded data removed]",
      "text/plain": [
       "<matplotlib.figure.Figure at 0x19a3fe10>"
      ]
     },
     "metadata": {},
     "output_type": "display_data"
    }
   ],
   "source": [
    "# Age\n",
    "\n",
    "g1 = sns.FacetGrid(data, col='Survived', aspect=2)\n",
    "g1 = g1.map(plt.hist,'Age', bins=len(age.unique())/2, color='c').set_ylabels('Count')\n",
    "\n",
    "# Thought it would be interesting to create a PDF for both survive and not survive conditions.\n",
    "g2 = sns.FacetGrid(data, hue='Survived',aspect=4)\n",
    "g2 = g2.map(sns.kdeplot, 'Age', shade=True).add_legend()\n",
    "\n",
    "g2.ax.set_title('Estimated PDF for Survivors/Non-Survivors Based on Age')\n",
    "g2.ax.set_xlim(0,100)"
   ]
  },
  {
   "cell_type": "code",
   "execution_count": 120,
   "metadata": {
    "collapsed": false
   },
   "outputs": [
    {
     "data": {
      "text/plain": [
       "<matplotlib.text.Text at 0x1ac85da0>"
      ]
     },
     "execution_count": 120,
     "metadata": {},
     "output_type": "execute_result"
    },
    {
     "data": {
      "image/png": "[encoded data removed]",
      "text/plain": [
       "<matplotlib.figure.Figure at 0x192e1ac8>"
      ]
     },
     "metadata": {},
     "output_type": "display_data"
    }
   ],
   "source": [
    "# Create bins\n",
    "\n",
    "binned, age_bins = pd.cut(data['Age'], 4, labels=['0-20', '21-40', '41-60', '60+'], retbins=True)\n",
    "\n",
    "data['AgeBins'] = pd.Series(binned, index=data.index)\n",
    "\n",
    "bp = sns.barplot(x=data['AgeBins'], y=survived, order=['0-20','21-40','41-60','60+'])\n",
    "bp.set_ylabel('Survival Rate')\n",
    "bp.set_xlabel('Age (Binned)')\n",
    "bp.set_title('Survival Rate by Age Group')"
   ]
  },
  {
   "cell_type": "markdown",
   "metadata": {},
   "source": [
    "## Conclusion Phase\n",
    "\n",
    "### Were the young and old likelier to survive?\n",
    "\n",
    "> The old were likelier not to survive. Survival rate is lowest for the 60+ age group at ~.27, contrast this with the 0-20 group with the highest survival rate at ~.45\n",
    "\n",
    "> This paints a different story from the PDF estimate, which shows the likelihood that a survivor or non-survivor from their own pool, is of a certain age. The PDF is not a great indicator to answer my original question because it doesn't control for the higher frequency in other age groups (see note below).\n",
    "\n",
    "> The young (0-20 age group) were indeed likelier to survive, with the highest survival rate.\n",
    "\n",
    "> Note: From my understanding there is a difference in using the PDF estimate and survival rate by age buckets in terms of semantics. Age bucket bar plot is looking at survival rates within those buckets only. The PDF can be interpreted as something like: 'From ALL survivors, what is the probability that survivor is of this age'. Answering my question can be done by both visualizations but with different repercussions. ---- A little unsure about all this.\n",
    "\n",
    "> Another note: something to take into consideration is the bin sizes that I chose to group the passengers into. Data might show something different for with more granularity.\n",
    "\n",
    "> Another note: the missing age values may have skewed the data.\n",
    "\n",
    "### Was there a difference in survival rate based on gender?\n",
    "\n",
    "> Females had a significantly higher survival rate (~.75)\n",
    "\n",
    "### Did socioeconomic status have an impact on survival rate? \n",
    "\n",
    "> I used Pclass and Cclass as indicators for SES. On Pclass, though the number of non-survivors decreases as you go up in Pclass, the count of survivors is not that much different across Pclasses. This is not as important an observation though as the survival rate is what matters most; higher Pclasses have higher survival rates. Interestingly enough, if you look at Pclass and Sex together, you'll find that there are barely any women who perished at Pclass=1 or 2.\n",
    "\n",
    "> On Cclass, cabin classes B and C had the highest median fare. Despite this only C had a relatively high survival rate (compared to survival rate of all diff cabin classes). This could signify a confound such as physical location on the boat (i.e. proximity to life rafts, proximity to collision point, etc.). The highest survival rates belong to cabin class C, D and E, with D and E having the second highest 'fare class' (median fare around 50). Cabin classes with the lowest 'fare class' (median fare at around 10) had the lowest survival rates, though cabin class F did have a relatively high survival rate, again possibly due to confounds.\n",
    "\n",
    "\n",
    "### Limitations\n",
    "\n",
    "> **Missing values**: 177 age values are not present, so results of this part of the analysis could be skewed. Perhaps some particular demographic did not have age values as they were too young to be registered, not in possession of proper documents due to SES, etc. It's difficult to come up with the most plausible explanation to guide our thinking. But suffice it to say, we should assume it affects the power of the conclusions we can draw from this. NaN/empty values for age are not included in the 'Age' section of this analysis.\n",
    "\n",
    "> **'Cclass' derivation**: I used Cclass as one of my primary indicators of SES and a majority of these values were imputed. As mentioned earlier, the median fares of those with no 'Cabin'/'Cclass' values seemed to match the median of an existing 'Cclass' and the IQR seemed to be small, so it was reasonable to assume what I did. Nevertheless, it is important to be mindful of this.\n",
    "\n",
    "> **Data collection**: a quick search yielded this sentence describing the dataset: \"These data were originally collected by the British Board of Trade in their investigation of the sinking. Note that there is not complete agreement among primary sources as to the exact numbers on board, rescued, or lost.\" Some potential problems include: data may only reflect those found/identified (stowaways, unidentifiable, completely lost are excluded), human error (incorrect categorization, typos, etc.), method of resolving inconsistencies is not known, some pieces of data such as age could be an approximation made by the investigating body at the time."
   ]
  },
  {
   "cell_type": "markdown",
   "metadata": {},
   "source": [
    "## Future\n",
    "\n",
    "The Titanic dataset is a classic machine learning exercise and I'm looking to submit something for the evergreen Kaggle competition they have. I would have spent far more time filling in the missing data if I was going to treat it as a machine learning problem. \n",
    "\n",
    "Personal notes for myself:\n",
    "- Creating dummy variables for the many categorical variables in the dataset.\n",
    "- Revisit decision trees, random forests, Gini impurity, and entropy [information gain]) - UW course."
   ]
  }
 ],
 "metadata": {
  "anaconda-cloud": {},
  "kernelspec": {
   "display_name": "Python [Root]",
   "language": "python",
   "name": "Python [Root]"
  },
  "language_info": {
   "codemirror_mode": {
    "name": "ipython",
    "version": 2
   },
   "file_extension": ".py",
   "mimetype": "text/x-python",
   "name": "python",
   "nbconvert_exporter": "python",
   "pygments_lexer": "ipython2",
   "version": "2.7.12"
  }
 },
 "nbformat": 4,
 "nbformat_minor": 0
}
