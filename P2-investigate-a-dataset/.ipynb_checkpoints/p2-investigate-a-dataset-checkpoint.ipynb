{
 "cells": [
  {
   "cell_type": "markdown",
   "metadata": {},
   "source": [
    "## P2 Investigate a Dataset\n",
    "\n",
    "For this project, I've decided to investigate a classic dataset: the Titanic passenger dataset. This dataset encompasses 891 individuals aboard the Titanic when it sailed that fateful day. It has has demographic, trip and economic data (in the form of fare price, cabin class, etc.).\n",
    "\n",
    "I'll be following the data analysis process as outlined by the Udacity class:\n",
    "\n",
    "<img src=\"files/images/data-analysis-process.png\" height=\"200\", width=\"500\" align=\"left\"></img>"
   ]
  },
  {
   "cell_type": "markdown",
   "metadata": {},
   "source": [
    "## Question Phase\n",
    "\n",
    "> What were the top predictors of survival?\n",
    "\n",
    "*Decided to restrict it to this one question as it entails a lot more work than I expected.*"
   ]
  },
  {
   "cell_type": "markdown",
   "metadata": {},
   "source": [
    "## Wrangling Phase (Cleaning the Data)\n",
    "\n",
    "I wanted to first clean the data by doing the following:\n",
    "- Checking if I loaded the CSV data correctly\n",
    "- Check each series (column) for discrepancies\n",
    "- Making sure each column in the DataFrame object had the right data type"
   ]
  },
  {
   "cell_type": "code",
   "execution_count": 91,
   "metadata": {
    "collapsed": false
   },
   "outputs": [
    {
     "data": {
      "text/html": [
       "<div>\n",
       "<table border=\"1\" class=\"dataframe\">\n",
       "  <thead>\n",
       "    <tr style=\"text-align: right;\">\n",
       "      <th></th>\n",
       "      <th>PassengerId</th>\n",
       "      <th>Survived</th>\n",
       "      <th>Pclass</th>\n",
       "      <th>Name</th>\n",
       "      <th>Sex</th>\n",
       "      <th>Age</th>\n",
       "      <th>SibSp</th>\n",
       "      <th>Parch</th>\n",
       "      <th>Ticket</th>\n",
       "      <th>Fare</th>\n",
       "      <th>Cabin</th>\n",
       "      <th>Embarked</th>\n",
       "    </tr>\n",
       "  </thead>\n",
       "  <tbody>\n",
       "    <tr>\n",
       "      <th>0</th>\n",
       "      <td>1</td>\n",
       "      <td>0</td>\n",
       "      <td>3</td>\n",
       "      <td>Braund, Mr. Owen Harris</td>\n",
       "      <td>male</td>\n",
       "      <td>22.0</td>\n",
       "      <td>1</td>\n",
       "      <td>0</td>\n",
       "      <td>A/5 21171</td>\n",
       "      <td>7.2500</td>\n",
       "      <td>NaN</td>\n",
       "      <td>S</td>\n",
       "    </tr>\n",
       "    <tr>\n",
       "      <th>1</th>\n",
       "      <td>2</td>\n",
       "      <td>1</td>\n",
       "      <td>1</td>\n",
       "      <td>Cumings, Mrs. John Bradley (Florence Briggs Th...</td>\n",
       "      <td>female</td>\n",
       "      <td>38.0</td>\n",
       "      <td>1</td>\n",
       "      <td>0</td>\n",
       "      <td>PC 17599</td>\n",
       "      <td>71.2833</td>\n",
       "      <td>C85</td>\n",
       "      <td>C</td>\n",
       "    </tr>\n",
       "    <tr>\n",
       "      <th>2</th>\n",
       "      <td>3</td>\n",
       "      <td>1</td>\n",
       "      <td>3</td>\n",
       "      <td>Heikkinen, Miss. Laina</td>\n",
       "      <td>female</td>\n",
       "      <td>26.0</td>\n",
       "      <td>0</td>\n",
       "      <td>0</td>\n",
       "      <td>STON/O2. 3101282</td>\n",
       "      <td>7.9250</td>\n",
       "      <td>NaN</td>\n",
       "      <td>S</td>\n",
       "    </tr>\n",
       "    <tr>\n",
       "      <th>3</th>\n",
       "      <td>4</td>\n",
       "      <td>1</td>\n",
       "      <td>1</td>\n",
       "      <td>Futrelle, Mrs. Jacques Heath (Lily May Peel)</td>\n",
       "      <td>female</td>\n",
       "      <td>35.0</td>\n",
       "      <td>1</td>\n",
       "      <td>0</td>\n",
       "      <td>113803</td>\n",
       "      <td>53.1000</td>\n",
       "      <td>C123</td>\n",
       "      <td>S</td>\n",
       "    </tr>\n",
       "    <tr>\n",
       "      <th>4</th>\n",
       "      <td>5</td>\n",
       "      <td>0</td>\n",
       "      <td>3</td>\n",
       "      <td>Allen, Mr. William Henry</td>\n",
       "      <td>male</td>\n",
       "      <td>35.0</td>\n",
       "      <td>0</td>\n",
       "      <td>0</td>\n",
       "      <td>373450</td>\n",
       "      <td>8.0500</td>\n",
       "      <td>NaN</td>\n",
       "      <td>S</td>\n",
       "    </tr>\n",
       "  </tbody>\n",
       "</table>\n",
       "</div>"
      ],
      "text/plain": [
       "   PassengerId  Survived  Pclass  \\\n",
       "0            1         0       3   \n",
       "1            2         1       1   \n",
       "2            3         1       3   \n",
       "3            4         1       1   \n",
       "4            5         0       3   \n",
       "\n",
       "                                                Name     Sex   Age  SibSp  \\\n",
       "0                            Braund, Mr. Owen Harris    male  22.0      1   \n",
       "1  Cumings, Mrs. John Bradley (Florence Briggs Th...  female  38.0      1   \n",
       "2                             Heikkinen, Miss. Laina  female  26.0      0   \n",
       "3       Futrelle, Mrs. Jacques Heath (Lily May Peel)  female  35.0      1   \n",
       "4                           Allen, Mr. William Henry    male  35.0      0   \n",
       "\n",
       "   Parch            Ticket     Fare Cabin Embarked  \n",
       "0      0         A/5 21171   7.2500   NaN        S  \n",
       "1      0          PC 17599  71.2833   C85        C  \n",
       "2      0  STON/O2. 3101282   7.9250   NaN        S  \n",
       "3      0            113803  53.1000  C123        S  \n",
       "4      0            373450   8.0500   NaN        S  "
      ]
     },
     "execution_count": 91,
     "metadata": {},
     "output_type": "execute_result"
    }
   ],
   "source": [
    "import seaborn as sns, pandas as pd, matplotlib.pyplot as plt, numpy as np\n",
    "%matplotlib inline\n",
    "\n",
    "data = pd.read_csv('data/titanic-data.csv')\n",
    "\n",
    "# Cursory glance to see if data loaded correctly\n",
    "data.head()"
   ]
  },
  {
   "cell_type": "code",
   "execution_count": 109,
   "metadata": {
    "collapsed": false
   },
   "outputs": [
    {
     "name": "stdout",
     "output_type": "stream",
     "text": [
      "<class 'pandas.core.frame.DataFrame'>\n",
      "RangeIndex: 891 entries, 0 to 890\n",
      "Data columns (total 13 columns):\n",
      "PassengerId    891 non-null int64\n",
      "Survived       891 non-null int64\n",
      "Pclass         891 non-null int64\n",
      "Name           891 non-null object\n",
      "Sex            891 non-null object\n",
      "Age            714 non-null float64\n",
      "SibSp          891 non-null int64\n",
      "Parch          891 non-null int64\n",
      "Ticket         891 non-null object\n",
      "Fare           891 non-null float64\n",
      "Cabin          204 non-null object\n",
      "Embarked       889 non-null object\n",
      "Cclass         891 non-null object\n",
      "dtypes: float64(2), int64(5), object(6)\n",
      "memory usage: 90.6+ KB\n",
      "None\n"
     ]
    }
   ],
   "source": [
    "# Quick check at unique values for non-unique columns (i.e. excluding name and PassengerId).\n",
    "# Did this to find and fix any easily visible anomalies. Found a few NaN values resulting from incorrect series dtypes.\n",
    "print data.info()\n",
    "\n",
    "# Personal note: dtype Object is apparently the value for str, kept trying to convert using df.apply() and df.astype()\n",
    "\n",
    "'''for c in data.columns.values:\n",
    "    if c == 'PassengerId' or c == 'Name':\n",
    "        pass\n",
    "    else:\n",
    "        print c, \"\\n\", data[c].unique(), '\\n\\n'\n",
    "'''\n",
    "\n",
    "\n",
    "# Correcting fact that[Age, Cabin, Embarked] all have NaN values\n",
    "\n",
    "#Originally did data = data.fillna('') but this converted dtypes due to empty string not being valid for float, int\n",
    "# Decided to leave as NaN, does not affect analysis\n",
    "\n",
    "# Adding a new field, Cclass, which is a column with cabin class only\n",
    "cclass_list = []\n",
    "for i in data['Cabin']:\n",
    "    if type(i)==float:\n",
    "        cclass_list.append('')\n",
    "    else:\n",
    "        cclass_list.append(i[0:1])\n",
    "\n",
    "data['Cclass'] = pd.Series(cclass_list, index=data.index)\n",
    "\n",
    "# Personal note: saw other people's exploration of this data, found this interesting\n",
    "# https://www.kaggle.com/mrisdal/titanic/exploring-survival-on-the-titanic\n",
    "# Instead of filling in NaN values for 'Embarked' as '', she took the median fare for all 'Embarked' values and compared it with\n",
    "# the fare for '' values. She concluded that '' fares fell squarely on 'C', so she filled '' with 'C'.\n",
    "# She goes on to do very similar things for other fields with empty values; imputation"
   ]
  },
  {
   "cell_type": "markdown",
   "metadata": {},
   "source": [
    "#### Few closing comments RE my first look at the data\n",
    "\n",
    "> I don't think it's particularly useful to look at 'PassengerId', 'Name', 'Ticket' as predictors for survival so I'm excluding them in my analysis and conclusions. 'PassengerId' is pretty much another indexing field, 'Embarked' contains the same info you would want from 'Ticket' (prefixes of the ticket contain port of embarcation it seems, which is the very value in 'Embarked').\n",
    "- Name: analyzing the origin of people's last names could give insight into whether different nationalities or ethnicities had higher survival rates."
   ]
  },
  {
   "cell_type": "markdown",
   "metadata": {},
   "source": [
    "## Explore Phase"
   ]
  },
  {
   "cell_type": "code",
   "execution_count": 81,
   "metadata": {
    "collapsed": false
   },
   "outputs": [
    {
     "data": {
      "text/plain": [
       "<matplotlib.axes._subplots.AxesSubplot at 0x17533e10>"
      ]
     },
     "execution_count": 81,
     "metadata": {},
     "output_type": "execute_result"
    },
    {
     "data": {
      "image/png": "[encoded data removed]",
      "text/plain": [
       "<matplotlib.figure.Figure at 0x17412358>"
      ]
     },
     "metadata": {},
     "output_type": "display_data"
    }
   ],
   "source": [
    "survived, pclass, sex, sibsp, parch, fare, embarked = data['Survived'], data['Pclass'], data['Sex'], data['SibSp'], data['Parch'], data['Fare'], data['Embarked']\n",
    "\n",
    "# Surviving Males/All Males, Surviving Females/All Females\n",
    "fig, (ax1, ax2) = plt.subplots(2, figsize=(10,10))\n",
    "\n",
    "# sns.barplot performs an aggregation by calculating a statistic ()\n",
    "sns.barplot(x=sex, y=survived, ax=ax1)\n",
    "\n",
    "#sns.countplot(x=sex, hue=survived, ax=ax2)\n",
    "\n",
    "sns.countplot(x=pclass, hue=survived, ax=ax2)"
   ]
  },
  {
   "cell_type": "code",
   "execution_count": null,
   "metadata": {
    "collapsed": true
   },
   "outputs": [],
   "source": []
  }
 ],
 "metadata": {
  "anaconda-cloud": {},
  "kernelspec": {
   "display_name": "Python [Root]",
   "language": "python",
   "name": "Python [Root]"
  },
  "language_info": {
   "codemirror_mode": {
    "name": "ipython",
    "version": 2
   },
   "file_extension": ".py",
   "mimetype": "text/x-python",
   "name": "python",
   "nbconvert_exporter": "python",
   "pygments_lexer": "ipython2",
   "version": "2.7.12"
  }
 },
 "nbformat": 4,
 "nbformat_minor": 0
}
