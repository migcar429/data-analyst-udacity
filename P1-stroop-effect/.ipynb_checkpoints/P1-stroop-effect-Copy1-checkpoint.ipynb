{
 "cells": [
  {
   "cell_type": "markdown",
   "metadata": {},
   "source": [
    "## P1 Test a Perceptual Phenomenon\n",
    "\n",
    "#### Background Information\n",
    "\n",
    "In a Stroop task, participants are presented with a list of words, with each word displayed in a color of ink. The participant’s task is to say out loud the color of the ink in which the word is printed. The task has two conditions: a congruent words condition, and an incongruent words condition. In the congruent words condition, the words being displayed are color words whose names match the colors in which they are printed: for example <font color=\"red\">RED</font>, <font color=\"blue\">BLUE</font>. In the incongruent words condition, the words displayed are color words whose names do not match the colors in which they are printed: for example <font color=\"green\">PURPLE</font>, <font color=\"pink\">ORANGE</font>. In each case, we measure the time it takes to name the ink colors in equally-sized lists. Each participant will go through and record a time from each condition."
   ]
  },
  {
   "cell_type": "markdown",
   "metadata": {},
   "source": [
    "### Question 1: What is our independent variable? Dependent variable?\n",
    "\n",
    "> Independent variable: Congruency condition (congruent list given, incongruent list given)\n",
    "\n",
    "> Dependent variable: Time taken to name colors in list"
   ]
  },
  {
   "cell_type": "markdown",
   "metadata": {},
   "source": [
    "### Question 2: What is an appropriate set of hypotheses for the task? What kind of statistical test do you expect to perform?\n",
    "\n",
    "> H<sub>0</sub>: No difference between task completion time between congruent and incongruent conditions\n",
    "\n",
    "> H<sub>1</sub>: Difference between task completion time between congruent and incongruent condition\n",
    "\n",
    "> I expect to perform a 2 sided, dependent t-test to see if there is a statistically significant difference between task completion time among the two conditions. I am looking to see whether there is a difference (positive or negative) in completion time. Further, since the same participants are performing the task in both conditions, the test is dependent."
   ]
  },
  {
   "cell_type": "markdown",
   "metadata": {},
   "source": [
    "### Question 3: Report some descriptive statistics regarding the dataset. Include at least one measure of central tendency and at least one measure of variability."
   ]
  },
  {
   "cell_type": "code",
   "execution_count": 133,
   "metadata": {
    "collapsed": false
   },
   "outputs": [
    {
     "name": "stdout",
     "output_type": "stream",
     "text": [
      "(24, 2)\n"
     ]
    },
    {
     "data": {
      "text/html": [
       "<div>\n",
       "<table border=\"1\" class=\"dataframe\">\n",
       "  <thead>\n",
       "    <tr style=\"text-align: right;\">\n",
       "      <th></th>\n",
       "      <th>Congruent</th>\n",
       "      <th>Incongruent</th>\n",
       "    </tr>\n",
       "  </thead>\n",
       "  <tbody>\n",
       "    <tr>\n",
       "      <th>count</th>\n",
       "      <td>24.000000</td>\n",
       "      <td>24.000000</td>\n",
       "    </tr>\n",
       "    <tr>\n",
       "      <th>mean</th>\n",
       "      <td>14.051125</td>\n",
       "      <td>22.015917</td>\n",
       "    </tr>\n",
       "    <tr>\n",
       "      <th>std</th>\n",
       "      <td>3.559358</td>\n",
       "      <td>4.797057</td>\n",
       "    </tr>\n",
       "    <tr>\n",
       "      <th>min</th>\n",
       "      <td>8.630000</td>\n",
       "      <td>15.687000</td>\n",
       "    </tr>\n",
       "    <tr>\n",
       "      <th>25%</th>\n",
       "      <td>11.895250</td>\n",
       "      <td>18.716750</td>\n",
       "    </tr>\n",
       "    <tr>\n",
       "      <th>50%</th>\n",
       "      <td>14.356500</td>\n",
       "      <td>21.017500</td>\n",
       "    </tr>\n",
       "    <tr>\n",
       "      <th>75%</th>\n",
       "      <td>16.200750</td>\n",
       "      <td>24.051500</td>\n",
       "    </tr>\n",
       "    <tr>\n",
       "      <th>max</th>\n",
       "      <td>22.328000</td>\n",
       "      <td>35.255000</td>\n",
       "    </tr>\n",
       "  </tbody>\n",
       "</table>\n",
       "</div>"
      ],
      "text/plain": [
       "       Congruent  Incongruent\n",
       "count  24.000000    24.000000\n",
       "mean   14.051125    22.015917\n",
       "std     3.559358     4.797057\n",
       "min     8.630000    15.687000\n",
       "25%    11.895250    18.716750\n",
       "50%    14.356500    21.017500\n",
       "75%    16.200750    24.051500\n",
       "max    22.328000    35.255000"
      ]
     },
     "execution_count": 133,
     "metadata": {},
     "output_type": "execute_result"
    }
   ],
   "source": [
    "import pandas as pd\n",
    "\n",
    "data = pd.read_csv('stroopdata.csv')\n",
    "\n",
    "print data.shape\n",
    "data.describe()"
   ]
  },
  {
   "cell_type": "markdown",
   "metadata": {},
   "source": [
    "### Question 4: Provide one or two visualizations that show the distribution of the sample data. Write one or two sentences noting what you observe about the plot or plots."
   ]
  },
  {
   "cell_type": "code",
   "execution_count": 111,
   "metadata": {
    "collapsed": false
   },
   "outputs": [
    {
     "data": {
      "text/plain": [
       "<matplotlib.text.Text at 0x16ca1198>"
      ]
     },
     "execution_count": 111,
     "metadata": {},
     "output_type": "execute_result"
    },
    {
     "data": {
      "image/png": "[encoded data removed]",
      "text/plain": [
       "<matplotlib.figure.Figure at 0x12a4c5f8>"
      ]
     },
     "metadata": {},
     "output_type": "display_data"
    }
   ],
   "source": [
    "import matplotlib.pyplot as plt\n",
    "import matplotlib\n",
    "\n",
    "matplotlib.style.use('ggplot')\n",
    "%matplotlib inline\n",
    "\n",
    "# Side note: the df.ix[] method lets you do df slicing like np array slicing [row index, col index].\n",
    "# Otherwise, df object is dict-like and typical int-based indexing not really usable except data[10:15] which slices rows.\n",
    "\n",
    "# Histogram of both congruent and incongruent values sharing x axis\n",
    "f, (ax1, ax2) = plt.subplots(2,1, figsize=(15,8), sharex=True)\n",
    "\n",
    "data['Congruent'].plot(kind='hist', alpha=0.5, title='Task Completion Time (Congruent)', ax=ax1, xlim=(0,40))\n",
    "\n",
    "data['Incongruent'].plot(kind='hist', alpha=0.5, title='Task Completion Time (Incongruent)', ax=ax2, xlim=(0,40), cmap='Accent')\n",
    "ax2.set_xlabel('Completion Time (s)')"
   ]
  },
  {
   "cell_type": "markdown",
   "metadata": {},
   "source": [
    "> The congruent and incongruent distributions seem somewhat normal (congruent less so). Notice that the mean completion time for the incongruent condition is larger than the congruent condition.\n",
    "\n",
    "> Quick comment though, next time I do this I would take more care in making sure the bin sizes are the same since that does affect how the values between 15-20 seconds are visualized."
   ]
  },
  {
   "cell_type": "code",
   "execution_count": 130,
   "metadata": {
    "collapsed": false
   },
   "outputs": [
    {
     "name": "stdout",
     "output_type": "stream",
     "text": [
      "                            OLS Regression Results                            \n",
      "==============================================================================\n",
      "Dep. Variable:            Incongruent   R-squared:                       0.935\n",
      "Model:                            OLS   Adj. R-squared:                  0.932\n",
      "Method:                 Least Squares   F-statistic:                     330.4\n",
      "Date:                Tue, 04 Oct 2016   Prob (F-statistic):           3.84e-15\n",
      "Time:                        15:57:53   Log-Likelihood:                -76.005\n",
      "No. Observations:                  24   AIC:                             154.0\n",
      "Df Residuals:                      23   BIC:                             155.2\n",
      "Df Model:                           1                                         \n",
      "Covariance Type:            nonrobust                                         \n",
      "==============================================================================\n",
      "                 coef    std err          t      P>|t|      [95.0% Conf. Int.]\n",
      "------------------------------------------------------------------------------\n",
      "Congruent      1.5035      0.083     18.177      0.000         1.332     1.675\n",
      "==============================================================================\n",
      "Omnibus:                        0.967   Durbin-Watson:                   1.564\n",
      "Prob(Omnibus):                  0.617   Jarque-Bera (JB):                0.429\n",
      "Skew:                           0.327   Prob(JB):                        0.807\n",
      "Kurtosis:                       3.032   Cond. No.                         1.00\n",
      "==============================================================================\n",
      "\n",
      "Warnings:\n",
      "[1] Standard Errors assume that the covariance matrix of the errors is correctly specified.\n"
     ]
    },
    {
     "data": {
      "image/png": "[encoded data removed]",
      "text/plain": [
       "<matplotlib.figure.Figure at 0x1b657048>"
      ]
     },
     "metadata": {},
     "output_type": "display_data"
    }
   ],
   "source": [
    "# Scatterplot of x=congruent response time, y=incongruent response time\n",
    "data.plot(kind='scatter', x='Congruent', y='Incongruent', grid=True, title='Task Completion Time (Congruent vs Incongruent)',\n",
    "         xlim=(0,40), figsize=(10,7), ylim=(0,40))\n",
    "\n",
    "import statsmodels.api as sm\n",
    "mod = sm.OLS(data['Incongruent'], data['Congruent'])\n",
    "res = mod.fit()\n",
    "print res.summary()"
   ]
  },
  {
   "cell_type": "markdown",
   "metadata": {},
   "source": [
    "> Not entirely sure if doing this is relevant for this project but I figure I would explore anyway: \n",
    "\n",
    "> This shows congruent and incongruent on the same graph (since both times on any given row are done by the same person). Aside from the two apparent outliers, you can see a positive coefficient for Congruent. This follows the intuition you get from looking at the graph that for every extra second you take on the congruent task, your time on the incongruent task takes longer than an extra second (around 0.5 seconds more if the regression is to be trusted)."
   ]
  },
  {
   "cell_type": "markdown",
   "metadata": {},
   "source": [
    "### Question 5: Now, perform the statistical test and report your results. What is your confidence level and your critical statistic value? Do you reject the null hypothesis or fail to reject it? Come to a conclusion in terms of the experiment task. Did the results match up with your expectations?"
   ]
  },
  {
   "cell_type": "markdown",
   "metadata": {},
   "source": [
    "> Confidence Level: 95%\n",
    "\n",
    "> Degrees of Freedom: 23\n",
    "\n",
    "> Critical Value: +/- 2.069"
   ]
  },
  {
   "cell_type": "code",
   "execution_count": 135,
   "metadata": {
    "collapsed": false
   },
   "outputs": [
    {
     "name": "stdout",
     "output_type": "stream",
     "text": [
      "Ttest_relResult(statistic=-8.020706944109957, pvalue=4.1030005857111781e-08)\n"
     ]
    }
   ],
   "source": [
    "from scipy.stats import ttest_rel\n",
    "\n",
    "# Using ttest_rel instead of ttest_ind because variables are related\n",
    "print ttest_rel(data['Congruent'], data['Incongruent'])"
   ]
  },
  {
   "cell_type": "markdown",
   "metadata": {},
   "source": [
    "> The t statistic ($-8.02$) is far lower than the critical value and the p value from the test is far smaller than 0.0001. This evidence forces us to reject the null hypothesis; there is indeed a difference in completion time between congruent and incongruent conditions.\n",
    "\n",
    "> It definitely matched my expectations. I found myself taking significantly longer for the incongruent task than the congruent one."
   ]
  },
  {
   "cell_type": "markdown",
   "metadata": {},
   "source": [
    "### Question 6: What do you think is responsible for the effects observed? Can you think of an alternative or similar task that would result in a similar effect?\n",
    "\n",
    "> I think that the results can possibly be affected by two things: priming and habit. \n",
    "\n",
    "> - Priming; I am not sure if the participants always take the tests in the same order but taking the congruent task first primes your brain to read the words instead of the color. For me, I felt myself actively switch off looking at the color once I understood that I didn't need to. When I swapped to the incongruent task there was a mental penalty for a bit as I 'recalibrated' the way I thought/read.\n",
    "\n",
    "> - Habit; we are essentially used to reading vs paying attention to the physical attributes of the words we are reading. I wonder if there would be a distinct difference from the population if you administered the test to individuals in the field of typography, where they are used to paying attention to font details.\n",
    "\n",
    "> In terms of alternative or similar tasks, I think there is a parallel with the phenomenon that occurs when you have words with only the first and last letter of the word in the right place. Your brain effortlessly reads the words even if they are spelled wrong, showing that habit creates less attention to details."
   ]
  }
 ],
 "metadata": {
  "anaconda-cloud": {},
  "kernelspec": {
   "display_name": "Python [Root]",
   "language": "python",
   "name": "Python [Root]"
  },
  "language_info": {
   "codemirror_mode": {
    "name": "ipython",
    "version": 2
   },
   "file_extension": ".py",
   "mimetype": "text/x-python",
   "name": "python",
   "nbconvert_exporter": "python",
   "pygments_lexer": "ipython2",
   "version": "2.7.12"
  }
 },
 "nbformat": 4,
 "nbformat_minor": 0
}
